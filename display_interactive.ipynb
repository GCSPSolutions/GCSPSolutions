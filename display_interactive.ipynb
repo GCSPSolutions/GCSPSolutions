{
 "cells": [
  {
   "cell_type": "markdown",
   "metadata": {},
   "source": [
    "# Generic Crew Scheduling Problem from Beasley and Cao (1996) and its extensions (deadheading and layovers) from Derigs and Schäfer (2014)\n"
   ]
  },
  {
   "cell_type": "code",
   "execution_count": 1,
   "metadata": {},
   "outputs": [],
   "source": [
    "# export\n",
    "\n",
    "import os\n",
    "from IPython.display import display, Markdown\n",
    "import pandas as pd\n",
    "\n",
    "%run \"./instance_solution_handling.py\""
   ]
  },
  {
   "cell_type": "code",
   "execution_count": 2,
   "metadata": {},
   "outputs": [],
   "source": [
    "#export\n",
    "import ipywidgets as widgets\n",
    "from ipywidgets import VBox,HBox\n",
    "from ipywidgets import Dropdown\n",
    "from ipywidgets import interact, interactive, fixed, interact_manual"
   ]
  },
  {
   "cell_type": "code",
   "execution_count": 3,
   "metadata": {},
   "outputs": [],
   "source": [
    "#export\n",
    "def compute_variant_to_results(instance_folder, solution_folder):\n",
    "       \n",
    "    n_activities_to_range_n_crews = get_n_activities_to_range_n_crews()\n",
    "\n",
    "    variants = ([\"base\",\"dh\", \"dhl\"])\n",
    "     \n",
    "    variant_to_results = {}\n",
    "    variant_to_better_solutions = {}\n",
    "    variant_to_wrongly_claimed_optimal = {}\n",
    "    \n",
    "    for variant in variants:\n",
    "        variant_to_results[variant] = []\n",
    "        variant_to_better_solutions [variant] = 0\n",
    "        variant_to_wrongly_claimed_optimal [variant] = 0\n",
    "       \n",
    "        \n",
    "        for n_activities, range_crews in n_activities_to_range_n_crews.items():\n",
    "            for n_crews in range_crews:\n",
    "                \n",
    "                if variant == \"base\" and n_crews == 129:\n",
    "                    continue\n",
    "                \n",
    "                feasible, obj = check_sol_from_file(instance_folder, solution_folder, variant, n_activities, n_crews)\n",
    "                obj_ds = get_obj_ds(n_activities, n_crews, variant, instance_folder)\n",
    "                claimed_opt_ds = claimed_optimal_ds(n_activities, n_crews, variant, instance_folder)\n",
    "                variant_to_results[variant].append([n_activities, n_crews, obj, obj_ds, claimed_opt_ds, obj < obj_ds, (obj < obj_ds and claimed_opt_ds)])\n",
    "\n",
    "                if obj < obj_ds:\n",
    "                    variant_to_better_solutions [variant]  +=1\n",
    "                    if claimed_opt_ds:\n",
    "                        variant_to_wrongly_claimed_optimal [variant]+= 1\n",
    "\n",
    "\n",
    "    return variant_to_results, variant_to_better_solutions, variant_to_wrongly_claimed_optimal\n"
   ]
  },
  {
   "cell_type": "code",
   "execution_count": 4,
   "metadata": {},
   "outputs": [],
   "source": [
    "#export\n",
    "def get_comparison_total(variant_to_better_solutions, variant_to_wrongly_claimed_optimal):\n",
    "    number_better = 0\n",
    "    for var, better_solutions in variant_to_better_solutions.items():\n",
    "        number_better += better_solutions\n",
    "    \n",
    "    number_wrong_optima = 0\n",
    "    for var, wrong_optima in variant_to_wrongly_claimed_optimal.items():\n",
    "        number_wrong_optima += wrong_optima\n",
    "    return number_better, number_wrong_optima"
   ]
  },
  {
   "cell_type": "code",
   "execution_count": 5,
   "metadata": {},
   "outputs": [],
   "source": [
    "#export\n",
    "def report_variant_solutions(instance_folder, solution_folder,  variant, selected_activities, out_widget = None):\n",
    "    \n",
    "    results = [] \n",
    "    if not out_widget:\n",
    "        out_widget = widgets.Output()\n",
    "        display(out_widget)\n",
    "    else:\n",
    "        out_widget.clear_output()\n",
    "    \n",
    "    for result_variant in variant_to_results[variant]:\n",
    "        \n",
    "        if result_variant[0] not in selected_activities:\n",
    "            continue\n",
    "\n",
    "        results.append(result_variant)\n",
    "        \n",
    "    with out_widget:\n",
    "        \n",
    "        display(Markdown( f\"**Variant {dropdown_variant.value}** Number of solutions better than in DS: {variant_to_better_solutions[dropdown_variant.value]}, number of wrongly claimed optimal values in DS: {variant_to_wrongly_claimed_optimal[dropdown_variant.value]}\"))\n",
    "\n",
    "        display(Markdown(f'### Detailed Objective Function Values: ' )) \n",
    "        \n",
    "        display(pd.DataFrame(results, columns = [ 'Activities', 'Crews', 'Objective', 'Objective_DS', 'ClaimedOptimal_DS', 'BetterThanDS', 'WronglyClaimedOptimalDS']).style.hide(axis='index'))\n",
    "\n"
   ]
  },
  {
   "cell_type": "code",
   "execution_count": 6,
   "metadata": {},
   "outputs": [],
   "source": [
    "#export\n",
    "def create_dropdown_variant():\n",
    "    dropdown_variant = widgets.Dropdown(\n",
    "                       description=\"Variant:\",\n",
    "                       options =[\"base\",\"dh\", \"dhl\"])\n",
    "\n",
    "    def on_change_variant(sender):\n",
    "        report_variant_solutions(instance_folder,solution_folder, dropdown_variant.value, select_activities.value, df_widget)\n",
    "        report_single_solution(instance_folder, solution_folder, dropdown_variant.value, dropdown_activity.value, dropdown_crews.value, solution_print_widget)\n",
    "\n",
    "    dropdown_variant.observe(on_change_variant, names=['value'])\n",
    "    \n",
    "    return dropdown_variant"
   ]
  },
  {
   "cell_type": "code",
   "execution_count": 7,
   "metadata": {},
   "outputs": [],
   "source": [
    "#export\n",
    "def create_select_activities():\n",
    "\n",
    "    select_activities = widgets.SelectMultiple(\n",
    "        options=list(range(50, 501,50)),\n",
    "        value=[50],\n",
    "        rows=10,\n",
    "        description='# Activities',\n",
    "        disabled=False\n",
    "    )\n",
    "\n",
    "    def on_change_select_activities(sender):\n",
    "        report_variant_solutions(instance_folder,solution_folder, dropdown_variant.value, select_activities.value, df_widget)\n",
    "\n",
    "    select_activities.observe(on_change_select_activities, names=['value'])\n",
    "\n",
    "    return select_activities\n",
    "#display(select_activities)"
   ]
  },
  {
   "cell_type": "code",
   "execution_count": 8,
   "metadata": {},
   "outputs": [],
   "source": [
    "#export\n",
    "def create_dropdown_activity():\n",
    "    dropdown_activity = widgets.Dropdown(\n",
    "                description=\"# Activities\",\n",
    "                options =[i for i in range(50, 501,50)])\n",
    "\n",
    "\n",
    "    def on_change_act(sender):\n",
    "\n",
    "            activity_value = dropdown_activity.value\n",
    "            dropdown_crews.options=list(get_n_activities_to_range_n_crews()[activity_value])\n",
    "            dropdown_crews.value =  dropdown_crews.options[0]\n",
    "            report_single_solution(instance_folder, solution_folder, dropdown_variant.value, activity_value, dropdown_crews.options[0], solution_print_widget )\n",
    "\n",
    "\n",
    "    dropdown_activity.observe(on_change_act, names=['value'])\n",
    "    return dropdown_activity\n"
   ]
  },
  {
   "cell_type": "code",
   "execution_count": 9,
   "metadata": {},
   "outputs": [],
   "source": [
    "#export\n",
    "def create_dropdown_crews():\n",
    "    dropdown_crews = widgets.Dropdown(\n",
    "                description=\"# Crews\",\n",
    "                options = get_n_activities_to_range_n_crews()[dropdown_activity.value])\n",
    "\n",
    "    def on_change_crews(sender):\n",
    "            report_single_solution(instance_folder, solution_folder, dropdown_variant.value, dropdown_activity.value, dropdown_crews.value, solution_print_widget )\n",
    "\n",
    "    dropdown_crews.observe(on_change_crews, names=['value'])\n",
    "    \n",
    "    return dropdown_crews\n"
   ]
  },
  {
   "cell_type": "code",
   "execution_count": 10,
   "metadata": {},
   "outputs": [],
   "source": [
    "#report_variant_solutions(instance_folder,solution_folder, \"base\", select_activities.value)"
   ]
  },
  {
   "cell_type": "code",
   "execution_count": 11,
   "metadata": {},
   "outputs": [],
   "source": [
    "#export\n",
    "def report_single_solution(instance_folder, solution_folder, variant, n_activities, n_crews, out_widget = None):\n",
    "    \n",
    "    if not out_widget:\n",
    "        out_widget = widgets.Output()\n",
    "        display(out_widget)\n",
    "    else:\n",
    "        out_widget.clear_output()\n",
    "    \n",
    "        \n",
    "    pairings, instance = get_pairings_from_file(instance_folder, solution_folder, variant, n_activities, n_crews)\n",
    "    \n",
    "    with out_widget:\n",
    "    \n",
    "        display(Markdown(f'## Solution for Instance: {instance.instance_name}, Variant {variant}, Number of Crews: {n_crews}'))\n",
    "\n",
    "        is_feasible, objective = check_pairings(instance, pairings, n_crews)\n",
    "\n",
    "        if is_feasible:\n",
    "\n",
    "            display( Markdown(f\"Solution is feasible, Objective function value: **{objective}**.\" ))\n",
    "            display( Markdown(f\"Objective function value in DS paper:  **{get_obj_ds(n_activities, n_crews, variant, instance_folder)}** (claimed to be optimal: {claimed_optimal_ds(n_activities, n_crews, variant, instance_folder)})\" ))\n",
    "        else: \n",
    "            display(Markdown( f\"Solution is infeasible\" ))\n",
    "\n",
    "        display(Markdown(f'###  Detailed Solution:'))\n",
    "\n",
    "        for pairing in pairings:\n",
    "            display(Markdown(get_pairing_str(pairing, instance)))\n",
    "            \n",
    "        \n",
    "    "
   ]
  },
  {
   "cell_type": "code",
   "execution_count": 12,
   "metadata": {},
   "outputs": [],
   "source": [
    "instance_folder = \"./instances\"\n",
    "solution_folder = \"./optimal_solutions\"\n",
    "\n",
    "variant_to_results, variant_to_better_solutions, variant_to_wrongly_claimed_optimal = compute_variant_to_results(instance_folder, solution_folder)\n",
    "number_better, number_wrong_optima = get_comparison_total(variant_to_better_solutions, variant_to_wrongly_claimed_optimal)\n"
   ]
  },
  {
   "cell_type": "markdown",
   "metadata": {},
   "source": [
    "## Comparing the Optimal Solutions Found with our State-Expanded Network Model to those reported in (Derigs and Schäfer 2014) (DS)"
   ]
  },
  {
   "cell_type": "code",
   "execution_count": 14,
   "metadata": {
    "tags": []
   },
   "outputs": [
    {
     "data": {
      "text/markdown": [
       "**Total:** Number of solutions better than in DS: 92, number of wrongly claimed optimal values in DS: 27"
      ],
      "text/plain": [
       "<IPython.core.display.Markdown object>"
      ]
     },
     "metadata": {},
     "output_type": "display_data"
    },
    {
     "data": {
      "text/markdown": [
       "## Results per problem variant (base, dh, dhl)"
      ],
      "text/plain": [
       "<IPython.core.display.Markdown object>"
      ]
     },
     "metadata": {},
     "output_type": "display_data"
    },
    {
     "data": {
      "application/vnd.jupyter.widget-view+json": {
       "model_id": "3ced62484e514521b20bd05da00eafd5",
       "version_major": 2,
       "version_minor": 0
      },
      "text/plain": [
       "Dropdown(description='Variant:', options=('base', 'dh', 'dhl'), value='base')"
      ]
     },
     "metadata": {},
     "output_type": "display_data"
    },
    {
     "data": {
      "text/markdown": [
       "## Select numbers of activities for objective function results"
      ],
      "text/plain": [
       "<IPython.core.display.Markdown object>"
      ]
     },
     "metadata": {},
     "output_type": "display_data"
    },
    {
     "data": {
      "application/vnd.jupyter.widget-view+json": {
       "model_id": "21eab43e38b1482892ca149b8cf86e8e",
       "version_major": 2,
       "version_minor": 0
      },
      "text/plain": [
       "Output()"
      ]
     },
     "metadata": {},
     "output_type": "display_data"
    },
    {
     "data": {
      "application/vnd.jupyter.widget-view+json": {
       "model_id": "6dc638567a3d4025b5a0c8b209fb603c",
       "version_major": 2,
       "version_minor": 0
      },
      "text/plain": [
       "Output()"
      ]
     },
     "metadata": {},
     "output_type": "display_data"
    }
   ],
   "source": [
    "\n",
    "display(Markdown( f\"**Total:** Number of solutions better than in DS: {number_better}, number of wrongly claimed optimal values in DS: {number_wrong_optima}\"))\n",
    "\n",
    "display(Markdown(f'## Results per problem variant (base, dh, dhl)' ))\n",
    "\n",
    "\n",
    "dropdown_variant = create_dropdown_variant()\n",
    "display(dropdown_variant)\n",
    "\n",
    "\n",
    "\n",
    "\n",
    "display (Markdown(\"## Select numbers of activities for objective function results\"))\n",
    "\n",
    "aggregated_report_widget = widgets.Output()\n",
    "df_widget = widgets.Output()\n",
    "\n",
    "select_activities = create_select_activities()\n",
    "with aggregated_report_widget:\n",
    "\n",
    "    display(select_activities)\n",
    "    display(df_widget)\n",
    "\n",
    "report_variant_solutions(instance_folder,solution_folder, dropdown_variant.value, select_activities.value, df_widget)\n",
    "\n",
    "\n",
    "display(aggregated_report_widget)\n",
    "\n",
    "\n",
    "single_solution_widget = widgets.Output()\n",
    "solution_print_widget = widgets.Output()\n",
    "\n",
    "dropdown_activity = create_dropdown_activity()\n",
    "dropdown_crews = create_dropdown_crews()\n",
    "\n",
    "with single_solution_widget:\n",
    "    display (Markdown(\"## Select instance for which to display our full solution:\"))\n",
    "\n",
    "    display(dropdown_activity)\n",
    "    \n",
    "\n",
    "    display(dropdown_crews)\n",
    "    \n",
    "    display(solution_print_widget)\n",
    "\n",
    "report_single_solution(instance_folder, solution_folder, dropdown_variant.value, dropdown_activity.value, dropdown_crews.value, solution_print_widget )\n",
    "\n",
    "\n",
    "display(single_solution_widget)\n",
    "\n"
   ]
  }
 ],
 "metadata": {
  "kernelspec": {
   "display_name": "Python [conda env:shift_scheduling]",
   "language": "python",
   "name": "conda-env-shift_scheduling-py"
  },
  "language_info": {
   "codemirror_mode": {
    "name": "ipython",
    "version": 3
   },
   "file_extension": ".py",
   "mimetype": "text/x-python",
   "name": "python",
   "nbconvert_exporter": "python",
   "pygments_lexer": "ipython3",
   "version": "3.9.10"
  }
 },
 "nbformat": 4,
 "nbformat_minor": 4
}
