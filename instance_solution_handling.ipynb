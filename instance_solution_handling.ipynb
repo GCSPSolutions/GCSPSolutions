{
 "cells": [
  {
   "cell_type": "markdown",
   "metadata": {},
   "source": [
    "# Generic Crew Scheduling Problem from Beasley and Cao 1998 and its extensions (deadheading and layovers) from (Derigs and Schäfer 2014)\n",
    "\n",
    "## Instance Handling and Solution Checking\n"
   ]
  },
  {
   "cell_type": "code",
   "execution_count": 1,
   "metadata": {},
   "outputs": [],
   "source": [
    "# export\n",
    "\n",
    "import os\n",
    "from dataclasses import dataclass, field\n",
    "import csv \n",
    "from collections import namedtuple\n",
    "from IPython.display import display, Markdown\n",
    "import pandas as pd"
   ]
  },
  {
   "cell_type": "markdown",
   "metadata": {},
   "source": [
    "## Instance Handling"
   ]
  },
  {
   "cell_type": "markdown",
   "metadata": {},
   "source": [
    "### Data Type for an activity (task)\n",
    "\n",
    "**Important:** In the instance files, the activities are indexed from 1 to n. In this code, we index them from 0 to n-1. Note, however, that when writing the solution file, we use the (original) 1-based indexing."
   ]
  },
  {
   "cell_type": "code",
   "execution_count": 2,
   "metadata": {},
   "outputs": [],
   "source": [
    "#export\n",
    "\n",
    "@dataclass(eq=True, order= True, frozen=True)\n",
    "class Activity:\n",
    "    index: int\n",
    "    start_period: int\n",
    "    end_period: int\n",
    "    activity_type: str = 'work'\n",
    "        \n",
    "    def get_start_period(self):\n",
    "        return self.start_period\n",
    "    \n",
    "    def get_end_period(self):\n",
    "        return self.end_period\n",
    "    \n",
    "    def get_number_of_periods(self):\n",
    "        return self.end_period - self.start_period\n",
    "    \n",
    "    def is_work(self):\n",
    "        return self.activity_type == 'work'\n",
    "    \n",
    "   "
   ]
  },
  {
   "cell_type": "markdown",
   "metadata": {},
   "source": [
    "### Class for an instance\n",
    "\n",
    "Contains all the instance information. Read instance from file by giving the file name to the constructor.\n"
   ]
  },
  {
   "cell_type": "code",
   "execution_count": 3,
   "metadata": {},
   "outputs": [],
   "source": [
    "#export\n",
    "    \n",
    "class csp_bc_instance():\n",
    "    \n",
    "    def __init__(self, filename):\n",
    "        #line = \n",
    "        self.instance_name = filename[filename.rfind('/')+1:-4]\n",
    "        with open(filename) as f:\n",
    "            line = f.readline().split()\n",
    "            self.number_of_activities = int(line[0])\n",
    "            self.max_work_periods = int(line[1])\n",
    "\n",
    "            self.activities = []\n",
    "            self.last_end_period = 0\n",
    "\n",
    "\n",
    "            for i in range(self.number_of_activities):\n",
    "\n",
    "                line = f.readline().split()\n",
    "\n",
    "                self.activities.append( Activity(i, int(line[0]),int(line[1])))\n",
    "                self.last_end_period = max(self.last_end_period, int(line[1]))\n",
    "\n",
    "\n",
    "            self.earliest_start_after_layover = 240 # 1200 + 480 - 1440\n",
    "            self.latest_start_after_layover = self.last_end_period + 600 - 1440 \n",
    "\n",
    "            self.start_after_layover_activities = set()\n",
    "            for activity in self.activities:\n",
    "                if activity.start_period >= self.earliest_start_after_layover and activity.start_period <=self.latest_start_after_layover:\n",
    "                    self.start_after_layover_activities.add(activity)\n",
    "\n",
    "            self.connection_costs = [{} for i in range(self.number_of_activities)]\n",
    "            self.connection_costs_reversed = [{} for i in range(self.number_of_activities)]\n",
    "\n",
    "            for line in f.readlines():\n",
    "                line = line.split()\n",
    "\n",
    "                self.connection_costs[int(line[0])-1][int(line[1])-1]=int(line[2])\n",
    "                self.connection_costs_reversed[int(line[1])-1][int(line[0])-1]=int(line[2])\n",
    "                \n",
    "    def get_work_activity_zero_indexed(self,index):\n",
    "        return self.activities[index]\n",
    "        \n",
    "    def get_deadhead_activity_zero_indexed(self,index):\n",
    "        work_activity = self.activities[index]\n",
    "        return Activity(index, work_activity.start_period, work_activity.end_period, \"deadhead\")\n",
    "        \n",
    "            \n",
    "\n",
    "\n",
    "\n",
    "    "
   ]
  },
  {
   "cell_type": "markdown",
   "metadata": {},
   "source": [
    "## Solution representation"
   ]
  },
  {
   "cell_type": "markdown",
   "metadata": {},
   "source": [
    "In our implementation, a solution is represented as simple nested data structure:\n",
    "\n",
    "- a **solution** is a **list of pairings**\n",
    "- a **pairing** is a **list of duties**\n",
    "- a **duy** is a **list of activities** (see above)\n",
    "\n",
    "**Note:** in a pairing, the time in each duty is counted as time from the start of the day, that is, if the start period of the first activity in the second duty is 200, then the period is 200 and not 1440 + 200 in this representation\n",
    "\n"
   ]
  },
  {
   "cell_type": "markdown",
   "metadata": {},
   "source": [
    "### Printing (parts of) solutions as strings"
   ]
  },
  {
   "cell_type": "code",
   "execution_count": 4,
   "metadata": {},
   "outputs": [],
   "source": [
    "#export\n",
    "def get_activity_str(activity):\n",
    "    work_time = 0\n",
    "    if activity.is_work():\n",
    "        work_time = activity.end_period - activity.start_period\n",
    "        \n",
    "        return f\"[ID:{activity.index+1} S:{activity.start_period} WT:{work_time} E:{activity.end_period} ]\"\n",
    "    else:\n",
    "        return f\"(ID:{activity.index+1} S:{activity.start_period} WT:{work_time} E:{activity.end_period})\""
   ]
  },
  {
   "cell_type": "code",
   "execution_count": 5,
   "metadata": {},
   "outputs": [],
   "source": [
    "#export\n",
    "\n",
    "def get_activity_con_str(act_a, act_b, instance = None):    \n",
    "    \n",
    "    cost_str = \"\"\n",
    "    \n",
    "    if instance:\n",
    "        cost_str = f\" C:{instance.connection_costs[act_a.index][act_b.index]}\"\n",
    "    \n",
    "    if act_b.is_work():\n",
    "        work_time = act_b.start_period - act_a.end_period\n",
    "        return f\" - WC WT:{work_time}{cost_str} - \"\n",
    "    return  f\" - DC - \"\n",
    "    "
   ]
  },
  {
   "cell_type": "code",
   "execution_count": 6,
   "metadata": {},
   "outputs": [],
   "source": [
    "#export\n",
    "\n",
    "def get_duty_str(duty, instance = None):\n",
    "    \n",
    "    total_cost = 0\n",
    "    \n",
    "\n",
    "    \n",
    "    output = \"||  \"\n",
    "    total_work_time = 0\n",
    "    last_activity = None\n",
    "    \n",
    "    for activity in duty:\n",
    "        if activity.is_work:\n",
    "            total_work_time += activity.get_number_of_periods()\n",
    "        \n",
    "            if last_activity:\n",
    "                total_work_time += activity.start_period - last_activity.end_period\n",
    "        \n",
    "        if last_activity:\n",
    "            \n",
    "            if instance:\n",
    "                total_cost += instance.connection_costs[last_activity.index][activity.index]\n",
    "                \n",
    "            output += get_activity_con_str(last_activity, activity, instance)\n",
    "\n",
    "            \n",
    "        output += get_activity_str(activity)\n",
    "        last_activity = activity\n",
    "        \n",
    "    if instance:\n",
    "        output += f\" | Total: WT: {total_work_time} Cost: {total_cost} ||\"\n",
    "    else :\n",
    "        output += f\" | Total: WT: {total_work_time}  ||\"\n",
    "    \n",
    "    return output\n",
    "        \n",
    "    \n",
    "    "
   ]
  },
  {
   "cell_type": "code",
   "execution_count": 7,
   "metadata": {},
   "outputs": [],
   "source": [
    "#export\n",
    "\n",
    "def get_pairing_str(pairing, instance = None):\n",
    "    \n",
    "    output = \"\"\n",
    "    last_duty = None\n",
    "    for duty in pairing:\n",
    "        \n",
    "        if last_duty:\n",
    "            output += f\" --- Layover with time  {duty[0].start_period + 1440 - last_duty[-1].end_period}) ---  \"\n",
    "        \n",
    "        last_duty = duty\n",
    "        output += get_duty_str(duty, instance)\n",
    "\n",
    "    return output\n",
    "        \n",
    "        "
   ]
  },
  {
   "cell_type": "code",
   "execution_count": 8,
   "metadata": {},
   "outputs": [],
   "source": [
    "#export:\n",
    "\n",
    "def print_solution(pairings, instance = None):\n",
    "    \n",
    "    for pairing in pairings:\n",
    "        print(get_pairing_str(pairing, instance))\n",
    "        \n",
    "    \n",
    "    "
   ]
  },
  {
   "cell_type": "code",
   "execution_count": 9,
   "metadata": {},
   "outputs": [],
   "source": [
    "def get_solution_str(pairings, instance = None):\n",
    "    \n",
    "    solution_str = \"\"\n",
    "    \n",
    "    for pairing in pairings:\n",
    "        solution_str += get_pairing_str(pairing, instance) + \"\\n\"\n",
    "        \n",
    "    return solution_str"
   ]
  },
  {
   "cell_type": "markdown",
   "metadata": {},
   "source": [
    "## Solution file reading and writing"
   ]
  },
  {
   "cell_type": "markdown",
   "metadata": {},
   "source": [
    "\n",
    "\n",
    "Solution files are expected to be in the following format:\n",
    "\n",
    "- first line: contains instance name (e.g. `csp50`)\n",
    "- each remaining line contains the information regarding a pairing consisting of the following elements (separated by whitespace):\n",
    "  - integer number: work activity with the (original one-indexed) activity id. Example: `2`\n",
    "  - integer number followed by `_D`: deadhead activity with the (original one-indexed) activity id. Example: `2_D`\n",
    "  - the character `L`: layover between two duties. Example: `L`"
   ]
  },
  {
   "cell_type": "markdown",
   "metadata": {
    "tags": []
   },
   "source": [
    "### Writing a solutions to a file"
   ]
  },
  {
   "cell_type": "code",
   "execution_count": 10,
   "metadata": {},
   "outputs": [],
   "source": [
    "#export\n",
    "\n",
    "def write_solution(instance, pairings, file_name = None):\n",
    "    \n",
    "    if file_name is None:\n",
    "        file_name = instance.instance_name + \"_sol.txt\"\n",
    "        \n",
    "    with open(file_name,\"w\") as file:\n",
    "        \n",
    "        file.write (instance.instance_name + \"\\n\")\n",
    "\n",
    "        for pairing in pairings:\n",
    "            line = \"\"\n",
    "            for index, duty in enumerate(pairing):\n",
    "                if index > 0:\n",
    "                    line += \"L \"\n",
    "                for activity in duty:\n",
    "                        if activity.is_work():\n",
    "                            line +=  str(activity.index+1) + \" \"\n",
    "                        else:\n",
    "                            line += str(activity.index+1) + \"_D \"                     \n",
    "                    \n",
    "            file.write (line[:-1] + \"\\n\")\n",
    "\n",
    "            \n"
   ]
  },
  {
   "cell_type": "markdown",
   "metadata": {
    "tags": []
   },
   "source": [
    "### Reading a solution from file"
   ]
  },
  {
   "cell_type": "code",
   "execution_count": 11,
   "metadata": {},
   "outputs": [],
   "source": [
    "#export\n",
    "def read_solution(solution_file_name, instance_path = \".\"):\n",
    "    \n",
    "    pairings = []\n",
    "    with open(solution_file_name) as f:\n",
    "        \n",
    "        instance_name = f.readline().rstrip()\n",
    "        \n",
    "        instance_file_name = instance_path + \"/\" + instance_name + \".txt\"\n",
    "        \n",
    "        instance = csp_bc_instance(instance_file_name)\n",
    "        \n",
    "        for line in f.readlines():\n",
    "            pairing = []\n",
    "            duty = []\n",
    "            for item in line.split():\n",
    "                if item.isnumeric():\n",
    "                    duty.append(instance.get_work_activity_zero_indexed(int(item)-1))\n",
    "                    \n",
    "                elif item[-2:]==\"_D\":\n",
    "                    duty.append(instance.get_deadhead_activity_zero_indexed(int(item[:-2])-1))\n",
    "                    \n",
    "                elif item==\"L\":\n",
    "                    pairing.append(duty)\n",
    "                    duty = []\n",
    "            \n",
    "            pairing.append(duty)\n",
    "            pairings.append(pairing)\n",
    "    return pairings, instance"
   ]
  },
  {
   "cell_type": "markdown",
   "metadata": {
    "tags": []
   },
   "source": [
    "## Problem / Instance Variants and Results from Derigs/Schäfer (2014)\n"
   ]
  },
  {
   "cell_type": "markdown",
   "metadata": {},
   "source": [
    "### Problem / Instance Variants"
   ]
  },
  {
   "cell_type": "code",
   "execution_count": 12,
   "metadata": {},
   "outputs": [],
   "source": [
    "#export\n",
    "def get_problem_variants():\n",
    "    return [\"base\", \"dh\",\"dhl\"]\n"
   ]
  },
  {
   "cell_type": "code",
   "execution_count": 13,
   "metadata": {},
   "outputs": [],
   "source": [
    "#export\n",
    "def get_n_activities_to_range_n_crews():\n",
    "    range_crew_members = dict([ \n",
    "     ( 50, range( 27, 32)),\n",
    "     (100, range( 44 ,49)),\n",
    "     (150, range( 69, 74)),\n",
    "     (200, range( 93, 98)),\n",
    "     (250, range(108,113)),\n",
    "     (300, range(129,134)),\n",
    "     (350, range(144,149)),\n",
    "     (400, range(159,164)),\n",
    "     (450, range(182,187)),\n",
    "     (500, range(204,209))])\n",
    "    \n",
    "    return range_crew_members"
   ]
  },
  {
   "cell_type": "code",
   "execution_count": 14,
   "metadata": {},
   "outputs": [],
   "source": [
    "#export\n",
    "def get_instance_and_range_crew_members(number_of_activities, instance_folder = \"./../instances\"):\n",
    "    \n",
    "    filename = f\"{instance_folder}/csp{number_of_activities}.txt\"\n",
    "    get_n_activities_to_range_n_crews()\n",
    "\n",
    "\n",
    "    return csp_bc_instance(filename), get_n_activities_to_range_n_crews()[number_of_activities]\n"
   ]
  },
  {
   "cell_type": "markdown",
   "metadata": {},
   "source": [
    "### Results from Derigs/Schäfer"
   ]
  },
  {
   "cell_type": "code",
   "execution_count": 15,
   "metadata": {},
   "outputs": [],
   "source": [
    "#export\n",
    "\n",
    "def get_dict_results_ds(number_of_activities, number_of_crew_members, instance_folder = \"./instances\"):\n",
    "    filename =f\"{instance_folder}/results_derigs_schaefer.csv\"\n",
    "\n",
    "    with open(filename, 'r') as data:\n",
    "\n",
    "        for line in csv.DictReader(data,delimiter =\";\"):\n",
    "            if int(line['number_act']) == number_of_activities and int(line['number_crew']) == number_of_crew_members:\n",
    "                return line\n",
    "    return None"
   ]
  },
  {
   "cell_type": "code",
   "execution_count": 16,
   "metadata": {},
   "outputs": [],
   "source": [
    "#export\n",
    "\n",
    "def get_obj_ds(number_of_activities, number_of_crew_members, variant, instance_folder = \"./instances\" ):\n",
    "       \n",
    "    dict_results_ds = get_dict_results_ds(number_of_activities, number_of_crew_members, instance_folder )\n",
    "    if dict_results_ds is None:\n",
    "        return -1\n",
    "    \n",
    "    return int(get_dict_results_ds(number_of_activities, number_of_crew_members,instance_folder)[f\"{variant}_obj\"])"
   ]
  },
  {
   "cell_type": "code",
   "execution_count": 17,
   "metadata": {},
   "outputs": [
    {
     "data": {
      "text/plain": [
       "2399"
      ]
     },
     "execution_count": 17,
     "metadata": {},
     "output_type": "execute_result"
    }
   ],
   "source": [
    "get_obj_ds(50,29,\"base\")   "
   ]
  },
  {
   "cell_type": "code",
   "execution_count": 18,
   "metadata": {},
   "outputs": [],
   "source": [
    "#export\n",
    "def claimed_optimal_ds(number_of_activities, number_of_crew_members, variant, instance_folder = \"./instances\"):\n",
    "       \n",
    "    dict_results_ds = get_dict_results_ds(number_of_activities, number_of_crew_members, instance_folder )\n",
    "    if dict_results_ds is None:\n",
    "        return -1\n",
    "    \n",
    "    return int(get_dict_results_ds(number_of_activities, number_of_crew_members, instance_folder)[f\"{variant}_opt\"]) > 0"
   ]
  },
  {
   "cell_type": "code",
   "execution_count": 19,
   "metadata": {},
   "outputs": [
    {
     "data": {
      "text/plain": [
       "True"
      ]
     },
     "execution_count": 19,
     "metadata": {},
     "output_type": "execute_result"
    }
   ],
   "source": [
    "claimed_optimal_ds(50,29,\"base\", \"./instances\")   "
   ]
  },
  {
   "cell_type": "markdown",
   "metadata": {},
   "source": [
    "## Checking Solutions"
   ]
  },
  {
   "cell_type": "markdown",
   "metadata": {
    "tags": []
   },
   "source": [
    "### Checking a duty\n",
    "\n",
    "**A duty if feasible if:**\n",
    "- its **total work time** does not exceed T (in the BC instances, T=480)\n",
    "- only allowed connections (as specified in the instance) are used\n",
    "\n",
    "The work time consists of time coming from:\n",
    "- **work activities**: the duration of the activity (end time - start time)\n",
    "  - if an activity is used as deadhead, it does not incur work time\n",
    "- **work connections**: the duration of the connection between two activities $a$ and $b$ (start time of $b$ - end time of $a$)\n",
    "  - a connection is counted as *work connection* if and only if $b$ is a work activivity, otherwise it is called *deadhead connection* and does not incur work time\n",
    "\n",
    "Note: In the BC instances, the time needed to get from base to the first activity and to return to base from the last activity is assumed to be 0.\n",
    "\n",
    "**The cost of a duty:**\n",
    "- **only depends on the connection costs** between two activities within a duty (as specified in the instance)\n",
    "  - connection costs are incurred irrespective of the type of connection (work or deadhead)\n",
    "\n"
   ]
  },
  {
   "cell_type": "code",
   "execution_count": 20,
   "metadata": {},
   "outputs": [],
   "source": [
    "# export\n",
    "def check_duty(instance, duty):\n",
    "    \n",
    "    is_feasible = True\n",
    "    \n",
    "    total_period_span = duty[-1].end_period - duty[0].start_period\n",
    "    total_cost = 0\n",
    "    total_deadhead_periods = 0\n",
    "    \n",
    "    last_activity = None\n",
    "    \n",
    "    for activity in duty:\n",
    "        if not activity.is_work():\n",
    "            total_deadhead_periods += activity.end_period-activity.start_period\n",
    "            \n",
    "        if last_activity:\n",
    "            \n",
    "            if activity.index in instance.connection_costs[last_activity.index]:\n",
    "                \n",
    "                total_cost += instance.connection_costs[last_activity.index][activity.index]\n",
    "                \n",
    "                if not activity.is_work():\n",
    "                    total_deadhead_periods += activity.start_period - last_activity.end_period\n",
    "            else:\n",
    "                is_feasible = False\n",
    "                print(\"Infeasible Connection used from\", last_activity, \"to\", activity, get_duty_str(duty))\n",
    "                \n",
    "        last_activity = activity\n",
    "        \n",
    "    total_work_time = total_period_span - total_deadhead_periods\n",
    "    \n",
    "    if total_work_time > instance.max_work_periods:\n",
    "        is_feasible = False\n",
    "        print(\"Violating max total work time\", total_work_time, get_duty_str(duty))\n",
    "    \n",
    "    return is_feasible, total_cost\n",
    "                    "
   ]
  },
  {
   "cell_type": "markdown",
   "metadata": {},
   "source": [
    "### Checking a Pairing\n",
    "\n",
    "**A pairing is feasible if:**\n",
    "- all of its duties are feasible \n",
    "- it consists of at most two duties, that is, it involves a layover connection\n",
    "\n",
    "**A  pairing with a layover connection is feasible if:**\n",
    "\n",
    "- the first duty ends (strictly) after period 1200\n",
    "- the layover time between the two duties (end time of first duty - start time of second duty) is between 480 and 600\n",
    "\n",
    "**The cost of pairing** is the sum of the costs of its duties\n"
   ]
  },
  {
   "cell_type": "code",
   "execution_count": 21,
   "metadata": {},
   "outputs": [],
   "source": [
    "#export\n",
    "\n",
    "def check_pairing(instance, pairing):\n",
    "    \n",
    "    total_cost = 0\n",
    "    is_feasible = True\n",
    "    if len(pairing) > 2:\n",
    "        is_feasible = False\n",
    "        print(\"More than 2 duties in pairing, namely\",len(pairing), get_pairing_str(pairing))\n",
    "    \n",
    "    last_duty = None\n",
    "    for duty in pairing:\n",
    "        \n",
    "        is_duty_feasible, duty_cost = check_duty(instance, duty)        \n",
    "        is_feasible = is_feasible and is_duty_feasible\n",
    "        total_cost += duty_cost\n",
    "        \n",
    "        \n",
    "        if last_duty is not None:\n",
    "            \n",
    "            if last_duty[-1].end_period <= 1200:\n",
    "                is_feasible = False\n",
    "                print(\"layover is only allowed to start after 1200, here: \", last_duty[-1].end_period , get_pairing_str(pairing))\n",
    "                \n",
    "            layover_connection_time = 1440 + duty[0].start_period - last_duty[-1].end_period \n",
    "            if layover_connection_time < 480 or layover_connection_time > 600:\n",
    "                is_feasible = False\n",
    "                print(\"layover connection time is not within [480,600], but:\", layover_connection_time, get_pairing_str(pairing))\n",
    "        last_duty = duty\n",
    "        \n",
    "    return is_feasible, total_cost"
   ]
  },
  {
   "cell_type": "markdown",
   "metadata": {},
   "source": [
    "### Checking a Solution (a list of pairings)\n",
    "\n",
    "**A solution is feasible for an instance with a given number of crew members if:**\n",
    "- the number of pairings equals the number of crew members\n",
    "- all pairings are feasible\n",
    "\n",
    "**The total cost of a solution** is the sum of the costs of its pairings"
   ]
  },
  {
   "cell_type": "code",
   "execution_count": 22,
   "metadata": {},
   "outputs": [],
   "source": [
    "#export\n",
    "\n",
    "def check_pairings(instance, pairings, number_of_crew_members):\n",
    "    \n",
    "    total_cost = 0\n",
    "    is_feasible = True\n",
    "    \n",
    "    if not len(pairings) ==  number_of_crew_members:\n",
    "        is_feasible = False\n",
    "        print (\"Wrong number of pairings, namely\", len(pairings), \"and\", number_of_crew_members, \"crew members\")\n",
    "    \n",
    "    for pairing in pairings:    \n",
    "        is_pairing_feasible, pairing_cost  = check_pairing(instance, pairing)\n",
    "        is_feasible = is_feasible and is_pairing_feasible\n",
    "        total_cost += pairing_cost\n",
    "        \n",
    "    return is_feasible, total_cost"
   ]
  },
  {
   "cell_type": "markdown",
   "metadata": {},
   "source": [
    "Some function for collecting certain statistics of a solution:"
   ]
  },
  {
   "cell_type": "code",
   "execution_count": 23,
   "metadata": {},
   "outputs": [],
   "source": [
    "#export       \n",
    "def get_number_of_layovers(pairings):\n",
    "    number_of_layovers = 0\n",
    "    for pairing in pairings:\n",
    "        number_of_layovers += len(pairing)-1\n",
    "    return number_of_layovers\n",
    "\n",
    "def get_number_of_duties(pairings):\n",
    "    number_of_duties= 0\n",
    "    for pairing in pairings:\n",
    "        number_of_duties += len(pairing)\n",
    "    return number_of_duties                            \n",
    "\n",
    "def get_number_of_duties_counting_single_duties_twice(pairings):\n",
    "    number_of_duties= 0\n",
    "    for pairing in pairings:\n",
    "        if (len(pairing)) == 1:\n",
    "            number_of_duties +=1\n",
    "        number_of_duties += len(pairing)\n",
    "    return number_of_duties "
   ]
  },
  {
   "cell_type": "code",
   "execution_count": null,
   "metadata": {},
   "outputs": [],
   "source": []
  },
  {
   "cell_type": "code",
   "execution_count": 24,
   "metadata": {},
   "outputs": [],
   "source": [
    "#export\n",
    "\n",
    "def get_number_of_deadheads(duty):\n",
    "    counter = 0\n",
    "    for activity in duty:\n",
    "        counter += not activity.is_work()\n",
    "    return counter\n",
    "\n",
    "def get_maximum_number_of_deadheads_per_duty(pairings):\n",
    "    \n",
    "    max_counter = 0\n",
    "    for pairing in pairings:\n",
    "        for duty in pairing:\n",
    "            max_counter = max(max_counter, get_number_of_deadheads(duty))\n",
    "    return max_counter\n",
    "        "
   ]
  },
  {
   "cell_type": "code",
   "execution_count": 25,
   "metadata": {},
   "outputs": [],
   "source": [
    "#export\n",
    "def get_maximum_number_of_deadheads_in_sequence(duty):\n",
    "    counter = 0\n",
    "    max_counter = 0\n",
    "    for activity in duty:\n",
    "        if not activity.is_work():            \n",
    "            counter += 1\n",
    "        else:\n",
    "            max_counter = max(max_counter, counter)\n",
    "            counter = 0     \n",
    "        \n",
    "    return max(max_counter, counter)\n",
    "\n",
    "def get_maximum_number_of_deadheads_in_sequence_per_duty(pairings):\n",
    "    max_counter = 0\n",
    "    for pairing in pairings:\n",
    "        for duty in pairing:\n",
    "            max_counter = max(max_counter, get_maximum_number_of_deadheads_in_sequence(duty))\n",
    "    return max_counter"
   ]
  },
  {
   "cell_type": "code",
   "execution_count": 26,
   "metadata": {},
   "outputs": [],
   "source": [
    "#export\n",
    "def get_maximum_number_of_activities_per_duty(pairings):\n",
    "    max_counter = 0\n",
    "    for pairing in pairings:\n",
    "        for duty in pairing:\n",
    "            max_counter = max(max_counter, len(duty))\n",
    "    return max_counter\n",
    "    "
   ]
  },
  {
   "cell_type": "code",
   "execution_count": 27,
   "metadata": {},
   "outputs": [],
   "source": [
    "#export\n",
    "def get_number_of_work_activities(duty):\n",
    "    counter = 0\n",
    "    for activity in duty:\n",
    "        counter += activity.is_work()\n",
    "    return counter\n",
    "    \n",
    "\n",
    "def get_maximum_number_of_work_activities_per_duty(pairings):\n",
    "    max_counter = 0\n",
    "    for pairing in pairings:\n",
    "        for duty in pairing:\n",
    "            max_counter = max(max_counter, get_number_of_work_activities(duty))\n",
    "    return max_counter"
   ]
  },
  {
   "cell_type": "code",
   "execution_count": null,
   "metadata": {},
   "outputs": [],
   "source": []
  },
  {
   "cell_type": "code",
   "execution_count": 28,
   "metadata": {},
   "outputs": [],
   "source": [
    "#export\n",
    "def get_pairings_from_file(instance_folder, solution_folder, variant, n_activities, n_crews):\n",
    "    solution_file_name = solution_folder + f\"/csp{n_activities}_{variant}_cm{n_crews}_sol.txt\"\n",
    "    return read_solution(solution_file_name, instance_folder)\n",
    "    \n",
    "    \n",
    "    "
   ]
  },
  {
   "cell_type": "code",
   "execution_count": 29,
   "metadata": {},
   "outputs": [],
   "source": [
    "#export\n",
    "def check_sol_from_file(instance_folder, solution_folder, variant, n_activities, n_crews):\n",
    "       \n",
    "    pairings, instance = get_pairings_from_file(instance_folder, solution_folder, variant, n_activities, n_crews)\n",
    "    \n",
    "    return check_pairings(instance, pairings, n_crews)\n",
    "    "
   ]
  },
  {
   "cell_type": "markdown",
   "metadata": {},
   "source": [
    "## Try it out: Check a solution and print it"
   ]
  },
  {
   "cell_type": "code",
   "execution_count": 30,
   "metadata": {},
   "outputs": [],
   "source": [
    "instance_folder = \"./instances\"\n",
    "solution_folder = \"./optimal_solutions\"\n",
    "variant = \"dh\"\n",
    "n_activities = 50\n",
    "n_crews = 29"
   ]
  },
  {
   "cell_type": "code",
   "execution_count": 31,
   "metadata": {},
   "outputs": [
    {
     "name": "stdout",
     "output_type": "stream",
     "text": [
      "Objective from Derigs / Schäfer: 2399 Claimed ot be optimal:  True\n",
      "Optimal Solution found using the SEN-Approach: 2382  Checked to be feasible: True \n",
      "\n",
      "||  [ID:1 S:1 WT:143 E:144 ] | Total: WT: 143 Cost: 0 ||\n",
      "||  [ID:2 S:14 WT:203 E:217 ] - WC WT:107 C:155 - [ID:13 S:324 WT:120 E:444 ] | Total: WT: 430 Cost: 155 ||\n",
      "||  [ID:3 S:60 WT:152 E:212 ] | Total: WT: 152 Cost: 0 ||\n",
      "||  [ID:4 S:97 WT:21 E:118 ] | Total: WT: 21 Cost: 0 ||\n",
      "||  [ID:5 S:134 WT:231 E:365 ] - WC WT:54 C:77 - [ID:19 S:419 WT:88 E:507 ] | Total: WT: 373 Cost: 77 ||\n",
      "||  [ID:6 S:138 WT:187 E:325 ] - WC WT:77 C:130 - [ID:15 S:402 WT:174 E:576 ] | Total: WT: 438 Cost: 130 ||\n",
      "||  [ID:7 S:143 WT:129 E:272 ] - WC WT:142 C:170 - [ID:18 S:414 WT:49 E:463 ] - WC WT:91 C:97 - [ID:25 S:554 WT:61 E:615 ] | Total: WT: 472 Cost: 267 ||\n",
      "||  [ID:8 S:144 WT:220 E:364 ] - WC WT:46 C:91 - [ID:17 S:410 WT:52 E:462 ] | Total: WT: 318 Cost: 91 ||\n",
      "||  [ID:9 S:220 WT:35 E:255 ] - DC - (ID:12 S:301 WT:0 E:531) - WC WT:22 C:23 - [ID:24 S:553 WT:194 E:747 ] - WC WT:124 C:181 - [ID:34 S:871 WT:80 E:951 ] | Total: WT: 731 Cost: 265 ||\n",
      "||  [ID:10 S:231 WT:169 E:400 ] - WC WT:61 C:82 - [ID:21 S:461 WT:191 E:652 ] | Total: WT: 421 Cost: 82 ||\n",
      "||  [ID:11 S:264 WT:214 E:478 ] - WC WT:21 C:26 - [ID:22 S:499 WT:225 E:724 ] | Total: WT: 460 Cost: 26 ||\n",
      "||  [ID:12 S:301 WT:230 E:531 ] - WC WT:45 C:83 - [ID:27 S:576 WT:132 E:708 ] | Total: WT: 407 Cost: 83 ||\n",
      "||  [ID:14 S:342 WT:192 E:534 ] - WC WT:177 C:192 - [ID:31 S:711 WT:54 E:765 ] | Total: WT: 423 Cost: 192 ||\n",
      "||  [ID:16 S:405 WT:60 E:465 ] - WC WT:76 C:137 - [ID:23 S:541 WT:152 E:693 ] | Total: WT: 288 Cost: 137 ||\n",
      "||  [ID:20 S:445 WT:161 E:606 ] | Total: WT: 161 Cost: 0 ||\n",
      "||  [ID:26 S:574 WT:115 E:689 ] - WC WT:86 C:104 - [ID:33 S:775 WT:107 E:882 ] | Total: WT: 308 Cost: 104 ||\n",
      "||  [ID:28 S:632 WT:59 E:691 ] | Total: WT: 59 Cost: 0 ||\n",
      "||  [ID:29 S:656 WT:70 E:726 ] | Total: WT: 70 Cost: 0 ||\n",
      "||  [ID:30 S:674 WT:112 E:786 ] - WC WT:100 C:101 - [ID:35 S:886 WT:41 E:927 ] - WC WT:70 C:96 - [ID:38 S:997 WT:58 E:1055 ] | Total: WT: 381 Cost: 197 ||\n",
      "||  [ID:32 S:766 WT:25 E:791 ] - WC WT:112 C:167 - [ID:36 S:903 WT:201 E:1104 ] | Total: WT: 338 Cost: 167 ||\n",
      "||  [ID:37 S:932 WT:236 E:1168 ] - WC WT:93 C:182 - [ID:44 S:1261 WT:37 E:1298 ] | Total: WT: 366 Cost: 182 ||\n",
      "||  [ID:39 S:1023 WT:108 E:1131 ] - WC WT:64 C:68 - [ID:41 S:1195 WT:175 E:1370 ] | Total: WT: 347 Cost: 68 ||\n",
      "||  [ID:40 S:1156 WT:34 E:1190 ] - WC WT:107 C:132 - [ID:46 S:1297 WT:136 E:1433 ] | Total: WT: 277 Cost: 132 ||\n",
      "||  [ID:42 S:1216 WT:229 E:1445 ] | Total: WT: 229 Cost: 0 ||\n",
      "||  [ID:43 S:1259 WT:49 E:1308 ] | Total: WT: 49 Cost: 0 ||\n",
      "||  [ID:45 S:1278 WT:127 E:1405 ] | Total: WT: 127 Cost: 0 ||\n",
      "||  [ID:47 S:1333 WT:29 E:1362 ] - WC WT:26 C:27 - [ID:50 S:1388 WT:140 E:1528 ] | Total: WT: 195 Cost: 27 ||\n",
      "||  [ID:48 S:1340 WT:203 E:1543 ] | Total: WT: 203 Cost: 0 ||\n",
      "||  [ID:49 S:1351 WT:188 E:1539 ] | Total: WT: 188 Cost: 0 ||\n"
     ]
    }
   ],
   "source": [
    "pairings, instance = get_pairings_from_file(instance_folder, solution_folder, variant, n_activities, n_crews)\n",
    "\n",
    "print (\"Objective from Derigs / Schäfer:\", get_obj_ds(n_activities, n_crews, variant), \"Claimed ot be optimal: \", claimed_optimal_ds(n_activities, n_crews, variant))\n",
    "\n",
    "print(\"Optimal Solution found using the SEN-Approach:\", check_pairings(instance, pairings, n_crews)[1], \" Checked to be feasible:\", check_pairings(instance, pairings, n_crews)[0], \"\\n\")\n",
    "\n",
    "print_solution(pairings, instance)"
   ]
  }
 ],
 "metadata": {
  "kernelspec": {
   "display_name": "Python [conda env:shift_scheduling]",
   "language": "python",
   "name": "conda-env-shift_scheduling-py"
  },
  "language_info": {
   "codemirror_mode": {
    "name": "ipython",
    "version": 3
   },
   "file_extension": ".py",
   "mimetype": "text/x-python",
   "name": "python",
   "nbconvert_exporter": "python",
   "pygments_lexer": "ipython3",
   "version": "3.9.10"
  }
 },
 "nbformat": 4,
 "nbformat_minor": 4
}
